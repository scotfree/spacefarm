{
 "cells": [
  {
   "cell_type": "code",
   "execution_count": 1,
   "id": "5651ab8f-f570-4d68-b2a8-43983bb2db41",
   "metadata": {},
   "outputs": [],
   "source": [
    "import json\n",
    "from game import Game\n",
    "from game_interface import GameInterface\n",
    "from game_enums import ControllerActionType\n",
    "from IPython.display import display, HTML\n",
    "    \n",
    "def game_html(game, controller):    \n",
    "    # Get the HTML representation\n",
    "    summary = GameInterface.get_game_state_summary(game)\n",
    "    grid = GameInterface.generate_html_grid(game)\n",
    "    html_output = f\"<table><tr><td>{grid}</td><td>{summary}</td></tr></table>\"\n",
    "    return html_output\n",
    "\n",
    "def simple_turn(game, controller):\n",
    "    # update turn, return new state as html\n",
    "    game.process_bot_actions(controller, 1) \n",
    "    return game_html(game, controller)"
   ]
  },
  {
   "cell_type": "code",
   "execution_count": 2,
   "id": "a9d2f1a2-9ce6-4aef-8b22-7d1cce578136",
   "metadata": {},
   "outputs": [],
   "source": [
    "SIMPLE_ORDERS = {\n",
    "    'action':\n",
    "        {\n",
    "                        'controller_id': 0,\n",
    "                        'action_type': ControllerActionType.TAKE_BOT_ACTIONS,\n",
    "                        'parameters': {'energy_points': 1}\n",
    "        },\n",
    "    'actions': \n",
    "    {\n",
    "                'controller_id': 0,\n",
    "                'action_type': ControllerActionType.TAKE_BOT_ACTIONS,\n",
    "                'parameters': {'energy_points': 3}\n",
    "            }\n",
    "}\n",
    "                 "
   ]
  },
  {
   "cell_type": "code",
   "execution_count": 3,
   "id": "6fa7bced-cd03-4133-ad15-0275292f97ae",
   "metadata": {},
   "outputs": [],
   "source": [
    "# Load the game configuration\n",
    "with open('game_config_dev.json', 'r') as f:\n",
    "    config = json.load(f)\n",
    "\n",
    "# Create a new game instance}\n",
    "game = Game(config)\n",
    "controller = game.controllers[0]  # player1"
   ]
  },
  {
   "cell_type": "code",
   "execution_count": 4,
   "id": "9d37aa66-661e-4417-bd97-4834a078e01e",
   "metadata": {
    "scrolled": true
   },
   "outputs": [],
   "source": [
    "current_html = game_html(game, controller)"
   ]
  },
  {
   "cell_type": "code",
   "execution_count": 5,
   "id": "ff1e6b8b-ff66-40a0-b6dd-3b3aa63392cf",
   "metadata": {},
   "outputs": [
    {
     "data": {
      "application/vnd.jupyter.widget-view+json": {
       "model_id": "ef29631994504027b4bbabcb1e67a0f9",
       "version_major": 2,
       "version_minor": 0
      },
      "text/plain": [
       "Output()"
      ]
     },
     "metadata": {},
     "output_type": "display_data"
    }
   ],
   "source": [
    "# Create an HTML widget\n",
    "from IPython.display import clear_output\n",
    "import ipywidgets as widgets\n",
    "\n",
    "# Create output widget to manage display updates\n",
    "output = widgets.Output()\n",
    "\n",
    "html_widget = widgets.HTML(current_html)\n",
    "\n",
    "# Create a button\n",
    "button = widgets.Button(description=\"DO STUFF\")\n",
    "\n",
    "# Define a function to update HTML when the button is clicked\n",
    "def update_html(b):\n",
    "    with output:\n",
    "        clear_output(wait=True)\n",
    "        game.process_turn([SIMPLE_ORDERS['action']])\n",
    "        new_html = game_html(game, controller)\n",
    "        html_widget.value = new_html\n",
    "\n",
    "# Attach the function to the button's 'on_click' event\n",
    "button.on_click(update_html)\n",
    "\n",
    "# Display everything inside the output widget\n",
    "with output:\n",
    "    display(html_widget, button)\n",
    "display(output)"
   ]
  },
  {
   "cell_type": "code",
   "execution_count": null,
   "id": "bc476048-e81b-4a28-a0f3-205a89ea290c",
   "metadata": {},
   "outputs": [],
   "source": []
  }
 ],
 "metadata": {
  "kernelspec": {
   "display_name": "Python 3 (ipykernel)",
   "language": "python",
   "name": "python3"
  },
  "language_info": {
   "codemirror_mode": {
    "name": "ipython",
    "version": 3
   },
   "file_extension": ".py",
   "mimetype": "text/x-python",
   "name": "python",
   "nbconvert_exporter": "python",
   "pygments_lexer": "ipython3",
   "version": "3.12.4"
  }
 },
 "nbformat": 4,
 "nbformat_minor": 5
}
