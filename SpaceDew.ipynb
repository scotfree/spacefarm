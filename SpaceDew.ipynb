{
 "cells": [
  {
   "cell_type": "code",
   "execution_count": 1,
   "id": "5651ab8f-f570-4d68-b2a8-43983bb2db41",
   "metadata": {},
   "outputs": [],
   "source": [
    "import json\n",
    "from game import Game\n",
    "from game_interface import GameInterface\n",
    "from game_enums import ControllerActionType\n",
    "from IPython.display import display, HTML\n",
    "    \n",
    "def game_html(game, controller):    \n",
    "    # Get the HTML representation\n",
    "    summary = GameInterface.get_game_state_summary(game)\n",
    "    grid = GameInterface.generate_html_grid(game)\n",
    "    html_output = f\"<table><tr><td>{grid}</td><td>{summary}</td></tr></table>\"\n",
    "    return html_output\n",
    "\n",
    "def simple_turn(game, controller):\n",
    "    # update turn, return new state as html\n",
    "    game.process_bot_actions(controller, 1) \n",
    "    return game_html(game, controller)"
   ]
  },
  {
   "cell_type": "code",
   "execution_count": 2,
   "id": "a9d2f1a2-9ce6-4aef-8b22-7d1cce578136",
   "metadata": {},
   "outputs": [],
   "source": [
    "SIMPLE_ORDERS = {\n",
    "    'action':\n",
    "        {\n",
    "                        'controller_id': 0,\n",
    "                        'action_type': ControllerActionType.TAKE_BOT_ACTIONS,\n",
    "                        'parameters': {'energy_points': 1}\n",
    "        },\n",
    "    'actions': \n",
    "    {\n",
    "                'controller_id': 0,\n",
    "                'action_type': ControllerActionType.TAKE_BOT_ACTIONS,\n",
    "                'parameters': {'energy_points': 3}\n",
    "            }\n",
    "}\n",
    "                 "
   ]
  },
  {
   "cell_type": "code",
   "execution_count": 3,
   "id": "6fa7bced-cd03-4133-ad15-0275292f97ae",
   "metadata": {},
   "outputs": [],
   "source": [
    "# Load the game configuration\n",
    "with open('game_config_dev.json', 'r') as f:\n",
    "    config = json.load(f)\n",
    "\n",
    "# Create a new game instance}\n",
    "game = Game(config)\n",
    "controller = game.controllers[0]  # player1"
   ]
  },
  {
   "cell_type": "code",
   "execution_count": 4,
   "id": "9d37aa66-661e-4417-bd97-4834a078e01e",
   "metadata": {
    "scrolled": true
   },
   "outputs": [
    {
     "data": {
      "text/html": [
       "<table><tr><td>\n",
       "            <style>\n",
       "                .game-grid {\n",
       "                    display: grid;\n",
       "                    grid-template-columns: repeat(5, 60px);\n",
       "                    gap: 2px;\n",
       "                    background-color: #333;\n",
       "                    padding: 2px;\n",
       "                    font-family: monospace;\n",
       "                }\n",
       "                .cell {\n",
       "                    width: 60px;\n",
       "                    height: 60px;\n",
       "                    display: flex;\n",
       "                    flex-direction: column;\n",
       "                    justify-content: center;\n",
       "                    align-items: center;\n",
       "                    font-size: 12px;\n",
       "                    position: relative;\n",
       "                    background-color: #9BA2A7;\n",
       "                    overflow: hidden;\n",
       "                }\n",
       "                .coordinates {\n",
       "                    position: absolute;\n",
       "                    top: 2px;\n",
       "                    left: 2px;\n",
       "                    color: #999;\n",
       "                    font-size: 10px;\n",
       "                }\n",
       "                .bot-label {\n",
       "                    position: absolute;\n",
       "                    top: 2px;\n",
       "                    right: 2px;\n",
       "                    background-color: rgba(0, 0, 0, 0.7);\n",
       "                    color: white;\n",
       "                    padding: 1px 3px;\n",
       "                    border-radius: 3px;\n",
       "                    font-size: 10px;\n",
       "                }\n",
       "                .asset-label {\n",
       "                    color: white;\n",
       "                    text-align: center;\n",
       "                    margin: 2px 0;\n",
       "                    font-weight: bold;\n",
       "                }\n",
       "            </style>\n",
       "            \n",
       "<div class=\"game-grid\"><div class=\"cell\" style=\"background-color: #D4A76A\"><div class=\"coordinates\">(0,0)</div><div class=\"asset-label\">ORE×10</div></div><div class=\"cell\" style=\"background-color: #9BA2A7\"><div class=\"coordinates\">(1,0)</div></div><div class=\"cell\" style=\"background-color: #9BA2A7\"><div class=\"coordinates\">(2,0)</div></div><div class=\"cell\" style=\"background-color: #9BA2A7\"><div class=\"coordinates\">(3,0)</div></div><div class=\"cell\" style=\"background-color: #9BA2A7\"><div class=\"coordinates\">(4,0)</div></div><div class=\"cell\" style=\"background-color: #9BA2A7\"><div class=\"coordinates\">(0,1)</div></div><div class=\"cell\" style=\"background-color: #463E3F\"><div class=\"coordinates\">(1,1)</div><div class=\"asset-label\">COL×2</div></div><div class=\"cell\" style=\"background-color: #9BA2A7\"><div class=\"coordinates\">(2,1)</div></div><div class=\"cell\" style=\"background-color: #9BA2A7\"><div class=\"coordinates\">(3,1)</div></div><div class=\"cell\" style=\"background-color: #9BA2A7\"><div class=\"coordinates\">(4,1)</div></div><div class=\"cell\" style=\"background-color: #9BA2A7\"><div class=\"coordinates\">(0,2)</div></div><div class=\"cell\" style=\"background-color: #9BA2A7\"><div class=\"coordinates\">(1,2)</div></div><div class=\"cell\" style=\"background-color: #463E3F\"><div class=\"coordinates\">(2,2)</div><div class=\"bot-label\">C0</div><div class=\"asset-label\">COL×5</div></div><div class=\"cell\" style=\"background-color: #9BA2A7\"><div class=\"coordinates\">(3,2)</div></div><div class=\"cell\" style=\"background-color: #9BA2A7\"><div class=\"coordinates\">(4,2)</div></div><div class=\"cell\" style=\"background-color: #9BA2A7\"><div class=\"coordinates\">(0,3)</div></div><div class=\"cell\" style=\"background-color: #9BA2A7\"><div class=\"coordinates\">(1,3)</div></div><div class=\"cell\" style=\"background-color: #9BA2A7\"><div class=\"coordinates\">(2,3)</div></div><div class=\"cell\" style=\"background-color: #228B22\"><div class=\"coordinates\">(3,3)</div><div class=\"asset-label\">PLT×3</div></div><div class=\"cell\" style=\"background-color: #9BA2A7\"><div class=\"coordinates\">(4,3)</div></div><div class=\"cell\" style=\"background-color: #9BA2A7\"><div class=\"coordinates\">(0,4)</div></div><div class=\"cell\" style=\"background-color: #9BA2A7\"><div class=\"coordinates\">(1,4)</div></div><div class=\"cell\" style=\"background-color: #9BA2A7\"><div class=\"coordinates\">(2,4)</div></div><div class=\"cell\" style=\"background-color: #9BA2A7\"><div class=\"coordinates\">(3,4)</div></div><div class=\"cell\" style=\"background-color: #228B22\"><div class=\"coordinates\">(4,4)</div><div class=\"asset-label\">PLT×3</div></div></div></td><td><div style='font-family: monospace; margin: 10px 0;'>\n",
       "Turn: 0<br>\n",
       "<br>Controller 0:\n",
       "<br>Bots: 1\n",
       "<br>Bot 0 deck: [\n",
       "HC M?]\n",
       "<br>Resources:\n",
       "<br> - MINERAL: 0\n",
       "<br> - BIOMASS: 0\n",
       "<br> - ENERGY: 10\n",
       "<br><br>Victory Conditions:\n",
       "<br> - MINERAL: 10\n",
       "<br> - BIOMASS: 10\n",
       "<br> - ENERGY: 10\n",
       "</div></td></tr></table>"
      ],
      "text/plain": [
       "<IPython.core.display.HTML object>"
      ]
     },
     "metadata": {},
     "output_type": "display_data"
    }
   ],
   "source": [
    "display(HTML(game_html(game, controller)))"
   ]
  },
  {
   "cell_type": "code",
   "execution_count": 8,
   "id": "b8aa4310-9cae-4074-988e-77010fa4f6a8",
   "metadata": {
    "scrolled": true
   },
   "outputs": [
    {
     "name": "stdout",
     "output_type": "stream",
     "text": [
      "Move from (2, 3) to (1, 3) by bot Bot(position=Position(x=2, y=3), deck=[Card(action_type=<ActionType.MOVE: 1>, parameter=<Direction.RANDOM: 5>), Card(action_type=<ActionType.HARVEST: 2>, parameter=<AssetType.COAL: 3>)], controller_id=0)\n",
      "OLD Cell bots: {Bot(position=Position(x=2, y=3), deck=[Card(action_type=<ActionType.MOVE: 1>, parameter=<Direction.RANDOM: 5>), Card(action_type=<ActionType.HARVEST: 2>, parameter=<AssetType.COAL: 3>)], controller_id=0)}\n",
      "NEW Cell bots: set()\n",
      "NO collicion yay. Position(x=2, y=3) Position(x=1, y=3)\n",
      "Bot(position=Position(x=2, y=3), deck=[Card(action_type=<ActionType.MOVE: 1>, parameter=<Direction.RANDOM: 5>), Card(action_type=<ActionType.HARVEST: 2>, parameter=<AssetType.COAL: 3>)], controller_id=0)\n",
      "Controller bots: [Bot(position=Position(x=2, y=3), deck=[Card(action_type=<ActionType.MOVE: 1>, parameter=<Direction.RANDOM: 5>), Card(action_type=<ActionType.HARVEST: 2>, parameter=<AssetType.COAL: 3>)], controller_id=0)]\n",
      "Move from (1, 3) to (1, 2) by bot Bot(position=Position(x=1, y=3), deck=[Card(action_type=<ActionType.MOVE: 1>, parameter=<Direction.RANDOM: 5>), Card(action_type=<ActionType.HARVEST: 2>, parameter=<AssetType.COAL: 3>)], controller_id=0)\n",
      "OLD Cell bots: {Bot(position=Position(x=1, y=3), deck=[Card(action_type=<ActionType.MOVE: 1>, parameter=<Direction.RANDOM: 5>), Card(action_type=<ActionType.HARVEST: 2>, parameter=<AssetType.COAL: 3>)], controller_id=0)}\n",
      "NEW Cell bots: set()\n",
      "NO collicion yay. Position(x=1, y=3) Position(x=1, y=2)\n",
      "Bot(position=Position(x=1, y=3), deck=[Card(action_type=<ActionType.MOVE: 1>, parameter=<Direction.RANDOM: 5>), Card(action_type=<ActionType.HARVEST: 2>, parameter=<AssetType.COAL: 3>)], controller_id=0)\n",
      "Controller bots: [Bot(position=Position(x=1, y=3), deck=[Card(action_type=<ActionType.MOVE: 1>, parameter=<Direction.RANDOM: 5>), Card(action_type=<ActionType.HARVEST: 2>, parameter=<AssetType.COAL: 3>)], controller_id=0)]\n"
     ]
    },
    {
     "data": {
      "text/html": [
       "<table><tr><td>\n",
       "            <style>\n",
       "                .game-grid {\n",
       "                    display: grid;\n",
       "                    grid-template-columns: repeat(5, 60px);\n",
       "                    gap: 2px;\n",
       "                    background-color: #333;\n",
       "                    padding: 2px;\n",
       "                    font-family: monospace;\n",
       "                }\n",
       "                .cell {\n",
       "                    width: 60px;\n",
       "                    height: 60px;\n",
       "                    display: flex;\n",
       "                    flex-direction: column;\n",
       "                    justify-content: center;\n",
       "                    align-items: center;\n",
       "                    font-size: 12px;\n",
       "                    position: relative;\n",
       "                    background-color: #9BA2A7;\n",
       "                    overflow: hidden;\n",
       "                }\n",
       "                .coordinates {\n",
       "                    position: absolute;\n",
       "                    top: 2px;\n",
       "                    left: 2px;\n",
       "                    color: #999;\n",
       "                    font-size: 10px;\n",
       "                }\n",
       "                .bot-label {\n",
       "                    position: absolute;\n",
       "                    top: 2px;\n",
       "                    right: 2px;\n",
       "                    background-color: rgba(0, 0, 0, 0.7);\n",
       "                    color: white;\n",
       "                    padding: 1px 3px;\n",
       "                    border-radius: 3px;\n",
       "                    font-size: 10px;\n",
       "                }\n",
       "                .asset-label {\n",
       "                    color: white;\n",
       "                    text-align: center;\n",
       "                    margin: 2px 0;\n",
       "                    font-weight: bold;\n",
       "                }\n",
       "            </style>\n",
       "            \n",
       "<div class=\"game-grid\"><div class=\"cell\" style=\"background-color: #D4A76A\"><div class=\"coordinates\">(0,0)</div><div class=\"asset-label\">ORE×10</div></div><div class=\"cell\" style=\"background-color: #9BA2A7\"><div class=\"coordinates\">(1,0)</div></div><div class=\"cell\" style=\"background-color: #9BA2A7\"><div class=\"coordinates\">(2,0)</div></div><div class=\"cell\" style=\"background-color: #9BA2A7\"><div class=\"coordinates\">(3,0)</div></div><div class=\"cell\" style=\"background-color: #9BA2A7\"><div class=\"coordinates\">(4,0)</div></div><div class=\"cell\" style=\"background-color: #9BA2A7\"><div class=\"coordinates\">(0,1)</div></div><div class=\"cell\" style=\"background-color: #463E3F\"><div class=\"coordinates\">(1,1)</div><div class=\"asset-label\">COL×2</div></div><div class=\"cell\" style=\"background-color: #9BA2A7\"><div class=\"coordinates\">(2,1)</div></div><div class=\"cell\" style=\"background-color: #9BA2A7\"><div class=\"coordinates\">(3,1)</div></div><div class=\"cell\" style=\"background-color: #9BA2A7\"><div class=\"coordinates\">(4,1)</div></div><div class=\"cell\" style=\"background-color: #9BA2A7\"><div class=\"coordinates\">(0,2)</div></div><div class=\"cell\" style=\"background-color: #9BA2A7\"><div class=\"coordinates\">(1,2)</div><div class=\"bot-label\">C0</div></div><div class=\"cell\" style=\"background-color: #9BA2A7\"><div class=\"coordinates\">(2,2)</div></div><div class=\"cell\" style=\"background-color: #9BA2A7\"><div class=\"coordinates\">(3,2)</div></div><div class=\"cell\" style=\"background-color: #9BA2A7\"><div class=\"coordinates\">(4,2)</div></div><div class=\"cell\" style=\"background-color: #9BA2A7\"><div class=\"coordinates\">(0,3)</div></div><div class=\"cell\" style=\"background-color: #9BA2A7\"><div class=\"coordinates\">(1,3)</div></div><div class=\"cell\" style=\"background-color: #9BA2A7\"><div class=\"coordinates\">(2,3)</div></div><div class=\"cell\" style=\"background-color: #228B22\"><div class=\"coordinates\">(3,3)</div><div class=\"asset-label\">PLT×3</div></div><div class=\"cell\" style=\"background-color: #9BA2A7\"><div class=\"coordinates\">(4,3)</div></div><div class=\"cell\" style=\"background-color: #9BA2A7\"><div class=\"coordinates\">(0,4)</div></div><div class=\"cell\" style=\"background-color: #9BA2A7\"><div class=\"coordinates\">(1,4)</div></div><div class=\"cell\" style=\"background-color: #9BA2A7\"><div class=\"coordinates\">(2,4)</div></div><div class=\"cell\" style=\"background-color: #9BA2A7\"><div class=\"coordinates\">(3,4)</div></div><div class=\"cell\" style=\"background-color: #228B22\"><div class=\"coordinates\">(4,4)</div><div class=\"asset-label\">PLT×3</div></div></div></td><td><div style='font-family: monospace; margin: 10px 0;'>\n",
       "Turn: 4<br>\n",
       "<br>Event Log:\n",
       "<br>Turn 3: Controller 0 performed TAKE_BOT_ACTIONS\n",
       "<br>Turn 3: Move from (1, 3) to (1, 2) by bot Bot(position=Position(x=1, y=3), deck=[Card(action_type=<ActionType.MOVE: 1>, parameter=<Direction.RANDOM: 5>), Card(action_type=<ActionType.HARVEST: 2>, parameter=<AssetType.COAL: 3>)], controller_id=0)\n",
       "<br>Turn 3: Bot 0 failed to harvest COAL at (1, 3)\n",
       "<br>Turn 3: Move from (2, 3) to (1, 3) by bot Bot(position=Position(x=2, y=3), deck=[Card(action_type=<ActionType.MOVE: 1>, parameter=<Direction.RANDOM: 5>), Card(action_type=<ActionType.HARVEST: 2>, parameter=<AssetType.COAL: 3>)], controller_id=0)\n",
       "<br>Turn 2: Controller 0 performed TAKE_BOT_ACTIONS\n",
       "<br>\n",
       "<br>Controller 0:\n",
       "<br>Bots: 1\n",
       "<br>Bot 0 deck: [\n",
       "HC M?]\n",
       "<br>Resources:\n",
       "<br> - MINERAL: 0\n",
       "<br> - BIOMASS: 0\n",
       "<br> - ENERGY: 9\n",
       "<br><br>Victory Conditions:\n",
       "<br> - MINERAL: 10\n",
       "<br> - BIOMASS: 10\n",
       "<br> - ENERGY: 10\n",
       "</div></td></tr></table>"
      ],
      "text/plain": [
       "<IPython.core.display.HTML object>"
      ]
     },
     "metadata": {},
     "output_type": "display_data"
    }
   ],
   "source": [
    "game.process_turn([SIMPLE_ORDERS['actions']]) \n",
    "display(HTML(game_html(game, controller)))"
   ]
  },
  {
   "cell_type": "code",
   "execution_count": null,
   "id": "4d530848-5f5f-4a35-b8af-8d9256892f99",
   "metadata": {},
   "outputs": [],
   "source": [
    "game.process_bot_actions(controller, 1) \n",
    "display(HTML(game_html(game, controller)))"
   ]
  },
  {
   "cell_type": "code",
   "execution_count": null,
   "id": "370b1b8c-faeb-4a99-ae0d-feedcfe72876",
   "metadata": {
    "scrolled": true
   },
   "outputs": [],
   "source": [
    "for i in range(5):\n",
    "    game.process_bot_actions(controller, 1) \n",
    "\n",
    "display(HTML(game_html(game, controller)))"
   ]
  },
  {
   "cell_type": "code",
   "execution_count": null,
   "id": "e390be6e-e0c8-484a-92c7-d8d9624fa852",
   "metadata": {},
   "outputs": [],
   "source": [
    "game.map[1][1].assets"
   ]
  },
  {
   "cell_type": "code",
   "execution_count": null,
   "id": "4d089cc0-4dfe-45ec-a0cf-95fe242d309c",
   "metadata": {},
   "outputs": [],
   "source": [
    "# controller = game.controllers[0]  # player1\n",
    "game.process_bot_actions(controller, 1)  # Spend 3 energy on bot actions\n",
    "\n",
    "# Save the updated state\n",
    "summary = GameInterface.get_game_state_summary(game)\n",
    "grid = GameInterface.generate_html_grid(game)\n",
    "html_output = summary + grid"
   ]
  },
  {
   "cell_type": "code",
   "execution_count": null,
   "id": "9d5caefe-8c85-431d-a0e6-c67ce6d7bebb",
   "metadata": {},
   "outputs": [],
   "source": [
    "display(HTML(f\"<table><tr><td>{grid}</td><td>{summary}</td></tr></table>\"))"
   ]
  },
  {
   "cell_type": "code",
   "execution_count": null,
   "id": "015e926a-1a1c-438a-80de-c59364c04c62",
   "metadata": {},
   "outputs": [],
   "source": [
    "# Save the HTML to a file that can be viewed in a browser\n",
    "with open('game_state.html', 'w') as f:\n",
    "    f.write(html_output)\n",
    "\n",
    "print(\"Game state has been saved to 'game_state.html'\")"
   ]
  },
  {
   "cell_type": "code",
   "execution_count": null,
   "id": "90d6ff61-3cd8-4f73-bd1c-0f184dd262a0",
   "metadata": {},
   "outputs": [],
   "source": [
    "# Example: Process some bot actions\n",
    "controller = game.controllers[0]  # player1\n",
    "game.process_bot_actions(controller, 3)  # Spend 3 energy on bot actions\n",
    "\n",
    "# Save the updated state\n",
    "summary = GameInterface.get_game_state_summary(game)\n",
    "grid = GameInterface.generate_html_grid(game)\n",
    "html_output = summary + grid\n",
    "\n",
    "with open('game_state_after_actions.html', 'w') as f:\n",
    "    f.write(html_output)\n",
    "\n",
    "print(\"Game state has been saved to 'game_state_after_actions.html'\")\n",
    "print(\"Open these files in your web browser to see the visualization\") "
   ]
  }
 ],
 "metadata": {
  "kernelspec": {
   "display_name": "Python 3 (ipykernel)",
   "language": "python",
   "name": "python3"
  },
  "language_info": {
   "codemirror_mode": {
    "name": "ipython",
    "version": 3
   },
   "file_extension": ".py",
   "mimetype": "text/x-python",
   "name": "python",
   "nbconvert_exporter": "python",
   "pygments_lexer": "ipython3",
   "version": "3.12.4"
  }
 },
 "nbformat": 4,
 "nbformat_minor": 5
}
